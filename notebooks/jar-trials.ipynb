{
 "cells": [
  {
   "cell_type": "code",
   "execution_count": 1,
   "id": "554cb226-9078-427f-93dc-f826e2ccca8f",
   "metadata": {},
   "outputs": [],
   "source": [
    "# Built-in imports\n",
    "\n",
    "# External imports\n",
    "import ipyvuetify as v\n",
    "from ipywidgets import HBox, VBox\n",
    "import numpy as np\n",
    "import pandas as pd\n",
    "\n",
    "# Local imports\n",
    "import sys\n",
    "sys.path.append('/srv/jar-experiments')\n",
    "from pyjar import config, ui, vuetify_utils as vu"
   ]
  },
  {
   "cell_type": "code",
   "execution_count": 2,
   "id": "25395976",
   "metadata": {},
   "outputs": [],
   "source": [
    "ui.W['instructions'] = v.Textarea(disabled=True,\n",
    "                                  value=(\"Press randomize to generate a new set of random slots \"\n",
    "                                         \"for the jars. Or look up a jar's slot with the barcode reader.\"))\n",
    "\n",
    "#ui.W['status_button'] = v.Btn(\n",
    "#    children=['Start'],\n",
    "#    style_=\"visibility: visible\")\n",
    "#ui.W['status_button'].on_event('click', ui.start_stop)\n",
    "#ui.W['status_button'].status = 'Cold'\n",
    "\n",
    "ui.W['experimenter_select'] = v.Select(\n",
    "    label='Experimenter',\n",
    "    items=[''] + config.experimenters,\n",
    "    v_model='')\n",
    "ui.W['experimenter_select'].on_event('change', ui.update)\n",
    "\n",
    "ui.W['progress_bar'] = v.ProgressLinear(value='v_model',\n",
    "                                        v_model=0,\n",
    "                                        height='25')\n",
    "\n",
    "ui.W['rank_select'] = v.Select(\n",
    "    label='Which odorant is more intense?',\n",
    "    items=[],\n",
    "    v_model='')\n",
    "\n",
    "ui.W['rate_slider'] = v.Slider(\n",
    "    label='How intense is odorant X?',\n",
    "    min=0,\n",
    "    max=100,\n",
    "    step=1,\n",
    "    thumb_label='always',\n",
    "    thumb_size=20,\n",
    "    v_model=50)\n",
    "\n",
    "ui.W['confidence_checkbox'] = v.Checkbox(\n",
    "    label='Are you confident?',\n",
    "    v_model=True)\n",
    "\n",
    "ui.W['submit_button'] = v.Btn(\n",
    "    children=['Submit'])\n",
    "ui.W['submit_button'].on_event('click', ui.submit_answer)\n",
    "\n",
    "all_widgets = vu.get_all_widgets()\n",
    "vu.hide_widgets(not_widgets=[ui.W['experimenter_select']])"
   ]
  },
  {
   "cell_type": "code",
   "execution_count": 3,
   "id": "3dbdf299-bc20-47cd-819a-6c5e14b54be6",
   "metadata": {
    "scrolled": true,
    "tags": []
   },
   "outputs": [
    {
     "data": {
      "application/vnd.jupyter.widget-view+json": {
       "model_id": "e444eb0caadb431b805204c6546b1b77",
       "version_major": 2,
       "version_minor": 0
      },
      "text/plain": [
       "VBox(children=(Select(items=['', 'Tisha', 'Jaelyn', 'Rick'], label='Experimenter', v_model=''), ProgressLinear…"
      ]
     },
     "metadata": {},
     "output_type": "display_data"
    }
   ],
   "source": [
    "VBox(children=[ui.W[x] for x in ('experimenter_select', 'progress_bar', 'rank_select', 'rate_slider',\n",
    "                                 'confidence_checkbox', 'submit_button')])"
   ]
  }
 ],
 "metadata": {
  "kernelspec": {
   "display_name": "Python 3",
   "language": "python",
   "name": "python3"
  },
  "language_info": {
   "codemirror_mode": {
    "name": "ipython",
    "version": 3
   },
   "file_extension": ".py",
   "mimetype": "text/x-python",
   "name": "python",
   "nbconvert_exporter": "python",
   "pygments_lexer": "ipython3",
   "version": "3.9.4"
  },
  "toc": {
   "base_numbering": 1,
   "nav_menu": {},
   "number_sections": false,
   "sideBar": false,
   "skip_h1_title": false,
   "title_cell": "Table of Contents",
   "title_sidebar": "Contents",
   "toc_cell": false,
   "toc_position": {},
   "toc_section_display": false,
   "toc_window_display": false
  }
 },
 "nbformat": 4,
 "nbformat_minor": 5
}
