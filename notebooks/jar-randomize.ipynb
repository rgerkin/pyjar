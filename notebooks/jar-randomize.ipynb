{
 "cells": [
  {
   "cell_type": "code",
   "execution_count": 1,
   "id": "6c94e704",
   "metadata": {},
   "outputs": [],
   "source": [
    "import sys\n",
    "sys.path.append('/srv/jar-experiments')\n",
    "import ipyvuetify as v\n",
    "from ipywidgets import HBox, VBox\n",
    "from pyjar import ui, vuetify_utils as vu"
   ]
  },
  {
   "cell_type": "code",
   "execution_count": 2,
   "id": "28db7e88",
   "metadata": {},
   "outputs": [
    {
     "data": {
      "application/vnd.jupyter.widget-view+json": {
       "model_id": "d8ac73caa67645e185e68c900365b0d9",
       "version_major": 2,
       "version_minor": 0
      },
      "text/plain": [
       "VBox(children=(Textarea(disabled=True, value=\"Press randomize to generate a new set of random slots for the ja…"
      ]
     },
     "metadata": {},
     "output_type": "display_data"
    }
   ],
   "source": [
    "ui.W['instructions'] = v.Textarea(disabled=True,\n",
    "                                  value=(\"Press randomize to generate a new set of random slots \"\n",
    "                                         \"for the jars. Or look up a jar's slot with the barcode reader.\"))\n",
    "\n",
    "ui.W['seed_slider'] = v.Slider(\n",
    "    label='Randomization Seed',\n",
    "    min=0,\n",
    "    max=1000,\n",
    "    step=1,\n",
    "    thumb_label='always',\n",
    "    thumb_size=20,\n",
    "    v_model=0)\n",
    "ui.W['seed_slider'].on_event('change', ui.check_seed)\n",
    "\n",
    "ui.W['randomize_button'] = v.Btn(\n",
    "    children=['Randomize!'])\n",
    "ui.W['randomize_button'].on_event('click', ui.submit_randomize)\n",
    "\n",
    "ui.W['prog_bar'] = v.ProgressLinear(indeterminate=True)\n",
    "\n",
    "ui.W['barcode_field'] = v.TextField(type='password',\n",
    "                            v_model='',\n",
    "                            label='Barcode')\n",
    "ui.W['barcode_field'].on_event('change', ui.show_slot)\n",
    "\n",
    "ui.W['slot_field'] = v.TextField(readonly=True, v_model='', label='Slot')\n",
    "\n",
    "vu.hide_widgets(ui.W['prog_bar'])\n",
    "\n",
    "VBox(children=[ui.W[x] for x in ('instructions',\n",
    "                                 'seed_slider',\n",
    "                                 'randomize_button',\n",
    "                                 'prog_bar',\n",
    "                                 'barcode_field',\n",
    "                                 'slot_field')])"
   ]
  },
  {
   "cell_type": "code",
   "execution_count": null,
   "id": "39984a2b-72a7-4a90-9bb8-bf11adf992cc",
   "metadata": {},
   "outputs": [],
   "source": []
  }
 ],
 "metadata": {
  "kernelspec": {
   "display_name": "Python 3",
   "language": "python",
   "name": "python3"
  },
  "language_info": {
   "codemirror_mode": {
    "name": "ipython",
    "version": 3
   },
   "file_extension": ".py",
   "mimetype": "text/x-python",
   "name": "python",
   "nbconvert_exporter": "python",
   "pygments_lexer": "ipython3",
   "version": "3.9.4"
  },
  "toc": {
   "base_numbering": 1,
   "nav_menu": {},
   "number_sections": false,
   "sideBar": false,
   "skip_h1_title": false,
   "title_cell": "Table of Contents",
   "title_sidebar": "Contents",
   "toc_cell": false,
   "toc_position": {},
   "toc_section_display": false,
   "toc_window_display": false
  }
 },
 "nbformat": 4,
 "nbformat_minor": 5
}
